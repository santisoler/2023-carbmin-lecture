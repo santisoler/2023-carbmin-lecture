{
 "cells": [
  {
   "cell_type": "code",
   "execution_count": 1,
   "id": "e97349be-5c1b-40a0-b579-791fea90b8f7",
   "metadata": {
    "execution": {
     "iopub.execute_input": "2023-11-30T00:29:04.467317Z",
     "iopub.status.busy": "2023-11-30T00:29:04.466101Z",
     "iopub.status.idle": "2023-11-30T00:29:07.255426Z",
     "shell.execute_reply": "2023-11-30T00:29:07.254825Z",
     "shell.execute_reply.started": "2023-11-30T00:29:04.467206Z"
    }
   },
   "outputs": [],
   "source": [
    "from IPython.display import display\n",
    "import ipywidgets as widgets\n",
    "\n",
    "import numpy as np\n",
    "import verde as vd\n",
    "import harmonica as hm\n",
    "import matplotlib.pyplot as plt\n",
    "from mpl_toolkits.axes_grid1 import make_axes_locatable"
   ]
  },
  {
   "cell_type": "code",
   "execution_count": 2,
   "id": "9d79ef5e-5104-41c3-914b-7b4e86071e23",
   "metadata": {
    "execution": {
     "iopub.execute_input": "2023-11-30T00:29:07.257184Z",
     "iopub.status.busy": "2023-11-30T00:29:07.256687Z",
     "iopub.status.idle": "2023-11-30T00:29:07.261057Z",
     "shell.execute_reply": "2023-11-30T00:29:07.260221Z",
     "shell.execute_reply.started": "2023-11-30T00:29:07.257160Z"
    }
   },
   "outputs": [],
   "source": [
    "easting = vd.line_coordinates(-100, 100, size=201)\n",
    "northing = np.zeros_like(easting)\n",
    "upward = np.zeros_like(easting)\n",
    "\n",
    "coordinates = (easting, northing, upward)"
   ]
  },
  {
   "cell_type": "code",
   "execution_count": 3,
   "id": "397d83ba-d174-4e75-bc38-6d028a45c701",
   "metadata": {
    "execution": {
     "iopub.execute_input": "2023-11-30T00:29:07.262344Z",
     "iopub.status.busy": "2023-11-30T00:29:07.262038Z",
     "iopub.status.idle": "2023-11-30T00:29:07.265930Z",
     "shell.execute_reply": "2023-11-30T00:29:07.265108Z",
     "shell.execute_reply.started": "2023-11-30T00:29:07.262313Z"
    }
   },
   "outputs": [],
   "source": [
    "prism = [-20, 20, -20, 20, -60, -20]"
   ]
  },
  {
   "cell_type": "code",
   "execution_count": 4,
   "id": "d60dade1-ca1d-4919-9390-1751bd5e3ed0",
   "metadata": {
    "execution": {
     "iopub.execute_input": "2023-11-30T00:29:07.267290Z",
     "iopub.status.busy": "2023-11-30T00:29:07.266904Z",
     "iopub.status.idle": "2023-11-30T00:29:07.271873Z",
     "shell.execute_reply": "2023-11-30T00:29:07.271212Z",
     "shell.execute_reply.started": "2023-11-30T00:29:07.267265Z"
    }
   },
   "outputs": [],
   "source": [
    "def prism_to_rectangle(prism, **kwargs):\n",
    "    \"\"\"\n",
    "    Generate a matplotlib rectangle through a vertical slice of a prism\n",
    "    \"\"\"\n",
    "    from matplotlib.patches import Rectangle\n",
    "    west, east, _, _, bottom, top = prism[:]\n",
    "    anchor_point = (west, bottom)\n",
    "    width = east - west\n",
    "    height = top - bottom\n",
    "    return Rectangle(xy=anchor_point, width=width, height=height, **kwargs)"
   ]
  },
  {
   "cell_type": "code",
   "execution_count": 5,
   "id": "1f5f62bb-d5ea-496c-8974-d5b2ed96d300",
   "metadata": {
    "execution": {
     "iopub.execute_input": "2023-11-30T00:29:07.273649Z",
     "iopub.status.busy": "2023-11-30T00:29:07.273419Z",
     "iopub.status.idle": "2023-11-30T00:29:07.283924Z",
     "shell.execute_reply": "2023-11-30T00:29:07.283143Z",
     "shell.execute_reply.started": "2023-11-30T00:29:07.273631Z"
    }
   },
   "outputs": [],
   "source": [
    "def forward(coordinates, prism, density, density_range=(-400, 400)):\n",
    "    \"\"\"\n",
    "    \"\"\"\n",
    "    import matplotlib\n",
    "    # Forward model\n",
    "    gravity = hm.prism_gravity(coordinates, prism, density, field=\"g_z\")\n",
    "\n",
    "    # Plot\n",
    "    fig, ax = plt.subplots(figsize=(8, 6))\n",
    "    cmap = matplotlib.colormaps[\"RdBu_r\"]\n",
    "    norm = matplotlib.colors.Normalize(vmin=density_range[0], vmax=density_range[1])\n",
    "    \n",
    "    # Plot rectangle and observation points\n",
    "    rectangle = prism_to_rectangle(prism, facecolor=cmap(norm(density)))\n",
    "    ax.add_patch(rectangle)\n",
    "    \n",
    "    # Set aspect of the main axes.\n",
    "    ax.set_aspect(\"equal\")\n",
    "    \n",
    "    # set ylims\n",
    "    ax.set_ylim(-100, 0)\n",
    "    \n",
    "    # create new axes on the right and on the top of the current axes\n",
    "    divider = make_axes_locatable(ax)\n",
    "    \n",
    "    # below height and pad are in inches\n",
    "    ax_gravity = divider.append_axes(\"top\", 1.2, pad=0.1, sharex=ax)\n",
    "    \n",
    "    # hide ticks\n",
    "    ax_gravity.xaxis.set_tick_params(labelbottom=False)\n",
    "    \n",
    "    ax_gravity.plot(easting, gravity)\n",
    "    ax_gravity.set_ylabel(\"Gravity [mGal]\")\n",
    "    ax_gravity.set_ylim(-0.15, 0.15)\n",
    "    \n",
    "    ax.set_xlabel(\"Easting [m]\")\n",
    "    ax.set_ylabel(\"Depth [m]\")\n",
    "\n",
    "    plt.colorbar(\n",
    "        matplotlib.cm.ScalarMappable(norm=norm, cmap=cmap),\n",
    "        ax=ax,\n",
    "        orientation=\"horizontal\",\n",
    "        shrink=0.7,\n",
    "        label=\"Density [kg/m3]\",\n",
    "    )\n",
    "    \n",
    "    plt.show()"
   ]
  },
  {
   "cell_type": "code",
   "execution_count": 6,
   "id": "1380cc9b-b844-4cec-b03f-6b82a724ebf7",
   "metadata": {
    "execution": {
     "iopub.execute_input": "2023-11-30T00:29:07.285072Z",
     "iopub.status.busy": "2023-11-30T00:29:07.284830Z",
     "iopub.status.idle": "2023-11-30T00:29:08.994523Z",
     "shell.execute_reply": "2023-11-30T00:29:08.993776Z",
     "shell.execute_reply.started": "2023-11-30T00:29:07.285048Z"
    }
   },
   "outputs": [
    {
     "data": {
      "image/png": "[encoded data removed]",
      "text/plain": [
       "<Figure size 800x600 with 3 Axes>"
      ]
     },
     "metadata": {},
     "output_type": "display_data"
    }
   ],
   "source": [
    "forward(coordinates, prism, 300)"
   ]
  },
  {
   "cell_type": "code",
   "execution_count": 7,
   "id": "a2d911ad-3c62-48e7-9cf5-7adc095c3218",
   "metadata": {
    "execution": {
     "iopub.execute_input": "2023-11-30T00:29:09.001845Z",
     "iopub.status.busy": "2023-11-30T00:29:09.001548Z",
     "iopub.status.idle": "2023-11-30T00:29:09.844980Z",
     "shell.execute_reply": "2023-11-30T00:29:09.844346Z",
     "shell.execute_reply.started": "2023-11-30T00:29:09.001816Z"
    }
   },
   "outputs": [
    {
     "data": {
      "application/vnd.jupyter.widget-view+json": {
       "model_id": "0823a96bc98f4a66af5098c801e85b77",
       "version_major": 2,
       "version_minor": 0
      },
      "text/plain": [
       "FloatSlider(value=0.0, max=400.0, min=-400.0, step=10.0)"
      ]
     },
     "metadata": {},
     "output_type": "display_data"
    },
    {
     "data": {
      "application/vnd.jupyter.widget-view+json": {
       "model_id": "779a7d34454447f39321aca2724ea291",
       "version_major": 2,
       "version_minor": 0
      },
      "text/plain": [
       "Output()"
      ]
     },
     "execution_count": 7,
     "metadata": {},
     "output_type": "execute_result"
    }
   ],
   "source": [
    "slider = widgets.FloatSlider(value=0, min=-400, max=400, step=10)\n",
    "\n",
    "def f(density):\n",
    "    forward(coordinates, prism, density)\n",
    "\n",
    "display(slider)\n",
    "widgets.interactive_output(f, {\"density\": slider})"
   ]
  }
 ],
 "metadata": {
  "kernelspec": {
   "display_name": "Python 3 (ipykernel)",
   "language": "python",
   "name": "python3"
  },
  "language_info": {
   "codemirror_mode": {
    "name": "ipython",
    "version": 3
   },
   "file_extension": ".py",
   "mimetype": "text/x-python",
   "name": "python",
   "nbconvert_exporter": "python",
   "pygments_lexer": "ipython3",
   "version": "3.11.6"
  }
 },
 "nbformat": 4,
 "nbformat_minor": 5
}
